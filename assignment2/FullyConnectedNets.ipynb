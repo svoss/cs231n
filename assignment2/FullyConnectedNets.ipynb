{
 "cells": [
  {
   "cell_type": "markdown",
   "metadata": {
    "deletable": true,
    "editable": true
   },
   "source": [
    "# Fully-Connected Neural Nets\n",
    "In the previous homework you implemented a fully-connected two-layer neural network on CIFAR-10. The implementation was simple but not very modular since the loss and gradient were computed in a single monolithic function. This is manageable for a simple two-layer network, but would become impractical as we move to bigger models. Ideally we want to build networks using a more modular design so that we can implement different layer types in isolation and then snap them together into models with different architectures.\n",
    "\n",
    "In this exercise we will implement fully-connected networks using a more modular approach. For each layer we will implement a `forward` and a `backward` function. The `forward` function will receive inputs, weights, and other parameters and will return both an output and a `cache` object storing data needed for the backward pass, like this:\n",
    "\n",
    "```python\n",
    "def layer_forward(x, w):\n",
    "  \"\"\" Receive inputs x and weights w \"\"\"\n",
    "  # Do some computations ...\n",
    "  z = # ... some intermediate value\n",
    "  # Do some more computations ...\n",
    "  out = # the output\n",
    "   \n",
    "  cache = (x, w, z, out) # Values we need to compute gradients\n",
    "   \n",
    "  return out, cache\n",
    "```\n",
    "\n",
    "The backward pass will receive upstream derivatives and the `cache` object, and will return gradients with respect to the inputs and weights, like this:\n",
    "\n",
    "```python\n",
    "def layer_backward(dout, cache):\n",
    "  \"\"\"\n",
    "  Receive derivative of loss with respect to outputs and cache,\n",
    "  and compute derivative with respect to inputs.\n",
    "  \"\"\"\n",
    "  # Unpack cache values\n",
    "  x, w, z, out = cache\n",
    "  \n",
    "  # Use values in cache to compute derivatives\n",
    "  dx = # Derivative of loss with respect to x\n",
    "  dw = # Derivative of loss with respect to w\n",
    "  \n",
    "  return dx, dw\n",
    "```\n",
    "\n",
    "After implementing a bunch of layers this way, we will be able to easily combine them to build classifiers with different architectures.\n",
    "\n",
    "In addition to implementing fully-connected networks of arbitrary depth, we will also explore different update rules for optimization, and introduce Dropout as a regularizer and Batch Normalization as a tool to more efficiently optimize deep networks.\n",
    "  "
   ]
  },
  {
   "cell_type": "code",
   "execution_count": 1,
   "metadata": {
    "collapsed": false,
    "deletable": true,
    "editable": true
   },
   "outputs": [
    {
     "name": "stdout",
     "output_type": "stream",
     "text": [
      "run the following from the cs231n directory and try again:\n",
      "python setup.py build_ext --inplace\n",
      "You may also need to restart your iPython kernel\n"
     ]
    }
   ],
   "source": [
    "# As usual, a bit of setup\n",
    "from __future__ import print_function\n",
    "import time\n",
    "import numpy as np\n",
    "import matplotlib.pyplot as plt\n",
    "from cs231n.classifiers.fc_net import *\n",
    "from cs231n.data_utils import get_CIFAR10_data\n",
    "from cs231n.gradient_check import eval_numerical_gradient, eval_numerical_gradient_array\n",
    "from cs231n.solver import Solver\n",
    "\n",
    "%matplotlib inline\n",
    "plt.rcParams['figure.figsize'] = (10.0, 8.0) # set default size of plots\n",
    "plt.rcParams['image.interpolation'] = 'nearest'\n",
    "plt.rcParams['image.cmap'] = 'gray'\n",
    "\n",
    "# for auto-reloading external modules\n",
    "# see http://stackoverflow.com/questions/1907993/autoreload-of-modules-in-ipython\n",
    "%load_ext autoreload\n",
    "%autoreload 2\n",
    "\n",
    "def rel_error(x, y):\n",
    "  \"\"\" returns relative error \"\"\"\n",
    "  return np.max(np.abs(x - y) / (np.maximum(1e-8, np.abs(x) + np.abs(y))))"
   ]
  },
  {
   "cell_type": "code",
   "execution_count": 2,
   "metadata": {
    "collapsed": false,
    "deletable": true,
    "editable": true
   },
   "outputs": [
    {
     "name": "stdout",
     "output_type": "stream",
     "text": [
      "('X_train: ', (49000, 3, 32, 32))\n",
      "('y_train: ', (49000,))\n",
      "('X_val: ', (1000, 3, 32, 32))\n",
      "('y_val: ', (1000,))\n",
      "('X_test: ', (1000, 3, 32, 32))\n",
      "('y_test: ', (1000,))\n"
     ]
    }
   ],
   "source": [
    "# Load the (preprocessed) CIFAR10 data.\n",
    "\n",
    "data = get_CIFAR10_data()\n",
    "for k, v in list(data.items()):\n",
    "  print(('%s: ' % k, v.shape))"
   ]
  },
  {
   "cell_type": "markdown",
   "metadata": {
    "deletable": true,
    "editable": true
   },
   "source": [
    "# Affine layer: foward\n",
    "Open the file `cs231n/layers.py` and implement the `affine_forward` function.\n",
    "\n",
    "Once you are done you can test your implementaion by running the following:"
   ]
  },
  {
   "cell_type": "code",
   "execution_count": 13,
   "metadata": {
    "collapsed": false,
    "deletable": true,
    "editable": true
   },
   "outputs": [
    {
     "ename": "ValueError",
     "evalue": "too many values to unpack (expected 2)",
     "output_type": "error",
     "traceback": [
      "\u001b[0;31m---------------------------------------------------------------------------\u001b[0m",
      "\u001b[0;31mValueError\u001b[0m                                Traceback (most recent call last)",
      "\u001b[0;32m<ipython-input-13-91d6e523b3a1>\u001b[0m in \u001b[0;36m<module>\u001b[0;34m()\u001b[0m\n\u001b[1;32m     12\u001b[0m \u001b[0mb\u001b[0m \u001b[0;34m=\u001b[0m \u001b[0mnp\u001b[0m\u001b[0;34m.\u001b[0m\u001b[0mlinspace\u001b[0m\u001b[0;34m(\u001b[0m\u001b[0;34m-\u001b[0m\u001b[0;36m0.3\u001b[0m\u001b[0;34m,\u001b[0m \u001b[0;36m0.1\u001b[0m\u001b[0;34m,\u001b[0m \u001b[0mnum\u001b[0m\u001b[0;34m=\u001b[0m\u001b[0moutput_dim\u001b[0m\u001b[0;34m)\u001b[0m\u001b[0;34m\u001b[0m\u001b[0m\n\u001b[1;32m     13\u001b[0m \u001b[0;34m\u001b[0m\u001b[0m\n\u001b[0;32m---> 14\u001b[0;31m \u001b[0mout\u001b[0m\u001b[0;34m,\u001b[0m \u001b[0m_\u001b[0m \u001b[0;34m=\u001b[0m \u001b[0maffine_forward\u001b[0m\u001b[0;34m(\u001b[0m\u001b[0mx\u001b[0m\u001b[0;34m,\u001b[0m \u001b[0mw\u001b[0m\u001b[0;34m,\u001b[0m \u001b[0mb\u001b[0m\u001b[0;34m)\u001b[0m\u001b[0;34m\u001b[0m\u001b[0m\n\u001b[0m\u001b[1;32m     15\u001b[0m correct_out = np.array([[ 1.49834967,  1.70660132,  1.91485297],\n\u001b[1;32m     16\u001b[0m                         [ 3.25553199,  3.5141327,   3.77273342]])\n",
      "\u001b[0;32m/Users/stijnvoss/Documents/studies/cs231n/assignment2/cs231n/layers.py\u001b[0m in \u001b[0;36maffine_forward\u001b[0;34m(x, w, b)\u001b[0m\n\u001b[1;32m     26\u001b[0m     \u001b[0;31m# will need to reshape the input into rows.                               #\u001b[0m\u001b[0;34m\u001b[0m\u001b[0;34m\u001b[0m\u001b[0m\n\u001b[1;32m     27\u001b[0m     \u001b[0;31m###########################################################################\u001b[0m\u001b[0;34m\u001b[0m\u001b[0;34m\u001b[0m\u001b[0m\n\u001b[0;32m---> 28\u001b[0;31m     \u001b[0mN\u001b[0m\u001b[0;34m,\u001b[0m\u001b[0mD\u001b[0m \u001b[0;34m=\u001b[0m \u001b[0mx\u001b[0m\u001b[0;34m.\u001b[0m\u001b[0mshape\u001b[0m\u001b[0;34m[\u001b[0m\u001b[0;36m0\u001b[0m\u001b[0;34m]\u001b[0m\u001b[0;34m,\u001b[0m \u001b[0;34m*\u001b[0m\u001b[0mx\u001b[0m\u001b[0;34m.\u001b[0m\u001b[0mshape\u001b[0m\u001b[0;34m[\u001b[0m\u001b[0;36m1\u001b[0m\u001b[0;34m:\u001b[0m\u001b[0;34m]\u001b[0m\u001b[0;34m\u001b[0m\u001b[0m\n\u001b[0m\u001b[1;32m     29\u001b[0m \u001b[0;34m\u001b[0m\u001b[0m\n\u001b[1;32m     30\u001b[0m     \u001b[0mx\u001b[0m \u001b[0;34m=\u001b[0m \u001b[0mx\u001b[0m\u001b[0;34m.\u001b[0m\u001b[0mreshape\u001b[0m\u001b[0;34m(\u001b[0m\u001b[0mN\u001b[0m\u001b[0;34m,\u001b[0m\u001b[0mD\u001b[0m\u001b[0;34m)\u001b[0m\u001b[0;34m\u001b[0m\u001b[0m\n",
      "\u001b[0;31mValueError\u001b[0m: too many values to unpack (expected 2)"
     ]
    }
   ],
   "source": [
    "# Test the affine_forward function\n",
    "\n",
    "num_inputs = 2\n",
    "input_shape = (4, 5, 6)\n",
    "output_dim = 3\n",
    "\n",
    "input_size = num_inputs * np.prod(input_shape)\n",
    "weight_size = output_dim * np.prod(input_shape)\n",
    "\n",
    "x = np.linspace(-0.1, 0.5, num=input_size).reshape(num_inputs, *input_shape)\n",
    "w = np.linspace(-0.2, 0.3, num=weight_size).reshape(np.prod(input_shape), output_dim)\n",
    "b = np.linspace(-0.3, 0.1, num=output_dim)\n",
    "\n",
    "out, _ = affine_forward(x, w, b)\n",
    "correct_out = np.array([[ 1.49834967,  1.70660132,  1.91485297],\n",
    "                        [ 3.25553199,  3.5141327,   3.77273342]])\n",
    "\n",
    "# Compare your output with ours. The error should be around 1e-9.\n",
    "print('Testing affine_forward function:')\n",
    "print('difference: ', rel_error(out, correct_out))"
   ]
  },
  {
   "cell_type": "markdown",
   "metadata": {
    "deletable": true,
    "editable": true
   },
   "source": [
    "# Affine layer: backward\n",
    "Now implement the `affine_backward` function and test your implementation using numeric gradient checking."
   ]
  },
  {
   "cell_type": "code",
   "execution_count": 29,
   "metadata": {
    "collapsed": false,
    "deletable": true,
    "editable": true
   },
   "outputs": [
    {
     "name": "stdout",
     "output_type": "stream",
     "text": [
      "Testing affine_backward function:\n",
      "dx error:  6.98634850437e-11\n",
      "dw error:  9.90402358399e-11\n",
      "db error:  7.73697883449e-12\n"
     ]
    }
   ],
   "source": [
    "# Test the affine_backward function\n",
    "np.random.seed(231)\n",
    "x = np.random.randn(10, 2, 3)\n",
    "w = np.random.randn(6, 5)\n",
    "b = np.random.randn(5)\n",
    "dout = np.random.randn(10, 5)\n",
    "\n",
    "dx_num = eval_numerical_gradient_array(lambda x: affine_forward(x, w, b)[0], x, dout)\n",
    "dw_num = eval_numerical_gradient_array(lambda w: affine_forward(x, w, b)[0], w, dout)\n",
    "db_num = eval_numerical_gradient_array(lambda b: affine_forward(x, w, b)[0], b, dout)\n",
    "\n",
    "_, cache = affine_forward(x, w, b)\n",
    "dx, dw, db = affine_backward(dout, cache)\n",
    "\n",
    "# The error should be around 1e-10\n",
    "print('Testing affine_backward function:')\n",
    "print('dx error: ', rel_error(dx_num, dx))\n",
    "print('dw error: ', rel_error(dw_num, dw))\n",
    "print('db error: ', rel_error(db_num, db))"
   ]
  },
  {
   "cell_type": "markdown",
   "metadata": {
    "deletable": true,
    "editable": true
   },
   "source": [
    "# ReLU layer: forward\n",
    "Implement the forward pass for the ReLU activation function in the `relu_forward` function and test your implementation using the following:"
   ]
  },
  {
   "cell_type": "code",
   "execution_count": 33,
   "metadata": {
    "collapsed": false,
    "deletable": true,
    "editable": true
   },
   "outputs": [
    {
     "name": "stdout",
     "output_type": "stream",
     "text": [
      "Testing relu_forward function:\n",
      "difference:  4.99999979802e-08\n"
     ]
    }
   ],
   "source": [
    "# Test the relu_forward function\n",
    "\n",
    "x = np.linspace(-0.5, 0.5, num=12).reshape(3, 4)\n",
    "\n",
    "out, _ = relu_forward(x)\n",
    "correct_out = np.array([[ 0.,          0.,          0.,          0.,        ],\n",
    "                        [ 0.,          0.,          0.04545455,  0.13636364,],\n",
    "                        [ 0.22727273,  0.31818182,  0.40909091,  0.5,       ]])\n",
    "\n",
    "# Compare your output with ours. The error should be around 5e-8\n",
    "print('Testing relu_forward function:')\n",
    "print('difference: ', rel_error(out, correct_out))"
   ]
  },
  {
   "cell_type": "markdown",
   "metadata": {
    "deletable": true,
    "editable": true
   },
   "source": [
    "# ReLU layer: backward\n",
    "Now implement the backward pass for the ReLU activation function in the `relu_backward` function and test your implementation using numeric gradient checking:"
   ]
  },
  {
   "cell_type": "code",
   "execution_count": 47,
   "metadata": {
    "collapsed": false,
    "editable": true
   },
   "outputs": [
    {
     "name": "stdout",
     "output_type": "stream",
     "text": [
      "Testing relu_backward function:\n",
      "dx error:  3.27563491363e-12\n"
     ]
    }
   ],
   "source": [
    "np.random.seed(231)\n",
    "x = np.random.randn(10, 10)\n",
    "dout = np.random.randn(*x.shape)\n",
    "\n",
    "dx_num = eval_numerical_gradient_array(lambda x: relu_forward(x)[0], x, dout)\n",
    "\n",
    "_, cache = relu_forward(x)\n",
    "dx = relu_backward(dout, cache)\n",
    "# The error should be around 3e-12\n",
    "print('Testing relu_backward function:')\n",
    "print('dx error: ', rel_error(dx_num, dx))"
   ]
  },
  {
   "cell_type": "markdown",
   "metadata": {
    "deletable": true,
    "editable": true
   },
   "source": [
    "# \"Sandwich\" layers\n",
    "There are some common patterns of layers that are frequently used in neural nets. For example, affine layers are frequently followed by a ReLU nonlinearity. To make these common patterns easy, we define several convenience layers in the file `cs231n/layer_utils.py`.\n",
    "\n",
    "For now take a look at the `affine_relu_forward` and `affine_relu_backward` functions, and run the following to numerically gradient check the backward pass:"
   ]
  },
  {
   "cell_type": "code",
   "execution_count": 48,
   "metadata": {
    "collapsed": false,
    "deletable": true,
    "editable": true
   },
   "outputs": [
    {
     "name": "stdout",
     "output_type": "stream",
     "text": [
      "Testing affine_relu_forward:\n",
      "dx error:  3.14347471369e-11\n",
      "dw error:  1.4861238458e-10\n",
      "db error:  7.82672402146e-12\n"
     ]
    }
   ],
   "source": [
    "from cs231n.layer_utils import affine_relu_forward, affine_relu_backward\n",
    "np.random.seed(231)\n",
    "x = np.random.randn(2, 3, 4)\n",
    "w = np.random.randn(12, 10)\n",
    "b = np.random.randn(10)\n",
    "dout = np.random.randn(2, 10)\n",
    "\n",
    "out, cache = affine_relu_forward(x, w, b)\n",
    "dx, dw, db = affine_relu_backward(dout, cache)\n",
    "\n",
    "dx_num = eval_numerical_gradient_array(lambda x: affine_relu_forward(x, w, b)[0], x, dout)\n",
    "dw_num = eval_numerical_gradient_array(lambda w: affine_relu_forward(x, w, b)[0], w, dout)\n",
    "db_num = eval_numerical_gradient_array(lambda b: affine_relu_forward(x, w, b)[0], b, dout)\n",
    "\n",
    "print('Testing affine_relu_forward:')\n",
    "print('dx error: ', rel_error(dx_num, dx))\n",
    "print('dw error: ', rel_error(dw_num, dw))\n",
    "print('db error: ', rel_error(db_num, db))"
   ]
  },
  {
   "cell_type": "markdown",
   "metadata": {
    "deletable": true,
    "editable": true
   },
   "source": [
    "# Loss layers: Softmax and SVM\n",
    "You implemented these loss functions in the last assignment, so we'll give them to you for free here. You should still make sure you understand how they work by looking at the implementations in `cs231n/layers.py`.\n",
    "\n",
    "You can make sure that the implementations are correct by running the following:"
   ]
  },
  {
   "cell_type": "code",
   "execution_count": 50,
   "metadata": {
    "collapsed": false,
    "deletable": true,
    "editable": true
   },
   "outputs": [
    {
     "name": "stdout",
     "output_type": "stream",
     "text": [
      "Testing svm_loss:\n",
      "loss:  8.9996027491\n",
      "dx error:  1.40215660067e-09\n",
      "\n",
      "Testing softmax_loss:\n",
      "loss:  2.3025458445\n",
      "dx error:  9.38467316199e-09\n"
     ]
    }
   ],
   "source": [
    "np.random.seed(231)\n",
    "num_classes, num_inputs = 10, 50\n",
    "x = 0.001 * np.random.randn(num_inputs, num_classes)\n",
    "y = np.random.randint(num_classes, size=num_inputs)\n",
    "\n",
    "dx_num = eval_numerical_gradient(lambda x: svm_loss(x, y)[0], x, verbose=False)\n",
    "loss, dx = svm_loss(x, y)\n",
    "\n",
    "# Test svm_loss function. Loss should be around 9 and dx error should be 1e-9\n",
    "print('Testing svm_loss:')\n",
    "print('loss: ', loss)\n",
    "print('dx error: ', rel_error(dx_num, dx))\n",
    "\n",
    "dx_num = eval_numerical_gradient(lambda x: softmax_loss(x, y)[0], x, verbose=False)\n",
    "loss, dx = softmax_loss(x, y)\n",
    "\n",
    "# Test softmax_loss function. Loss should be 2.3 and dx error should be 1e-8\n",
    "print('\\nTesting softmax_loss:')\n",
    "print('loss: ', loss)\n",
    "print('dx error: ', rel_error(dx_num, dx))"
   ]
  },
  {
   "cell_type": "markdown",
   "metadata": {
    "deletable": true,
    "editable": true
   },
   "source": [
    "# Two-layer network\n",
    "In the previous assignment you implemented a two-layer neural network in a single monolithic class. Now that you have implemented modular versions of the necessary layers, you will reimplement the two layer network using these modular implementations.\n",
    "\n",
    "Open the file `cs231n/classifiers/fc_net.py` and complete the implementation of the `TwoLayerNet` class. This class will serve as a model for the other networks you will implement in this assignment, so read through it to make sure you understand the API. You can run the cell below to test your implementation."
   ]
  },
  {
   "cell_type": "code",
   "execution_count": 69,
   "metadata": {
    "collapsed": false,
    "deletable": true,
    "editable": true
   },
   "outputs": [
    {
     "name": "stdout",
     "output_type": "stream",
     "text": [
      "Testing initialization ... \n",
      "Testing test-time forward pass ... \n",
      "Testing training loss (no regularization)\n",
      "Running numeric gradient check with reg =  0.0\n",
      "W1 relative error: 2.13e-08\n",
      "W2 relative error: 3.31e-10\n",
      "b1 relative error: 8.37e-09\n",
      "b2 relative error: 2.53e-10\n",
      "Running numeric gradient check with reg =  0.7\n",
      "W1 relative error: 2.53e-07\n",
      "W2 relative error: 1.37e-07\n",
      "b1 relative error: 1.56e-08\n",
      "b2 relative error: 9.09e-10\n"
     ]
    }
   ],
   "source": [
    "np.random.seed(231)\n",
    "N, D, H, C = 3, 5, 50, 7\n",
    "X = np.random.randn(N, D)\n",
    "y = np.random.randint(C, size=N)\n",
    "\n",
    "std = 1e-3\n",
    "model = TwoLayerNet(input_dim=D, hidden_dim=H, num_classes=C, weight_scale=std)\n",
    "\n",
    "print('Testing initialization ... ')\n",
    "W1_std = abs(model.params['W1'].std() - std)\n",
    "b1 = model.params['b1']\n",
    "W2_std = abs(model.params['W2'].std() - std)\n",
    "b2 = model.params['b2']\n",
    "assert W1_std < std / 10, 'First layer weights do not seem right'\n",
    "assert np.all(b1 == 0), 'First layer biases do not seem right'\n",
    "assert W2_std < std / 10, 'Second layer weights do not seem right'\n",
    "assert np.all(b2 == 0), 'Second layer biases do not seem right'\n",
    "\n",
    "print('Testing test-time forward pass ... ')\n",
    "model.params['W1'] = np.linspace(-0.7, 0.3, num=D*H).reshape(D, H)\n",
    "model.params['b1'] = np.linspace(-0.1, 0.9, num=H)\n",
    "model.params['W2'] = np.linspace(-0.3, 0.4, num=H*C).reshape(H, C)\n",
    "model.params['b2'] = np.linspace(-0.9, 0.1, num=C)\n",
    "X = np.linspace(-5.5, 4.5, num=N*D).reshape(D, N).T\n",
    "scores = model.loss(X)\n",
    "correct_scores = np.asarray(\n",
    "  [[11.53165108,  12.2917344,   13.05181771,  13.81190102,  14.57198434, 15.33206765,  16.09215096],\n",
    "   [12.05769098,  12.74614105,  13.43459113,  14.1230412,   14.81149128, 15.49994135,  16.18839143],\n",
    "   [12.58373087,  13.20054771,  13.81736455,  14.43418138,  15.05099822, 15.66781506,  16.2846319 ]])\n",
    "scores_diff = np.abs(scores - correct_scores).sum()\n",
    "assert scores_diff < 1e-6, 'Problem with test-time forward pass'\n",
    "\n",
    "print('Testing training loss (no regularization)')\n",
    "y = np.asarray([0, 5, 1])\n",
    "loss, grads = model.loss(X, y)\n",
    "correct_loss = 3.4702243556\n",
    "assert abs(loss - correct_loss) < 1e-10, 'Problem with training-time loss'\n",
    "\n",
    "model.reg = 1.0\n",
    "loss, grads = model.loss(X, y)\n",
    "correct_loss = 26.5948426952\n",
    "assert abs(loss - correct_loss) < 1e-10, 'Problem with regularization loss'\n",
    "\n",
    "for reg in [0.0, 0.7]:\n",
    "  print('Running numeric gradient check with reg = ', reg)\n",
    "  model.reg = reg\n",
    "  loss, grads = model.loss(X, y)\n",
    "\n",
    "  for name in sorted(grads):\n",
    "    f = lambda _: model.loss(X, y)[0]\n",
    "    grad_num = eval_numerical_gradient(f, model.params[name], verbose=False)\n",
    "    print('%s relative error: %.2e' % (name, rel_error(grad_num, grads[name])))"
   ]
  },
  {
   "cell_type": "markdown",
   "metadata": {
    "deletable": true,
    "editable": true
   },
   "source": [
    "# Solver\n",
    "In the previous assignment, the logic for training models was coupled to the models themselves. Following a more modular design, for this assignment we have split the logic for training models into a separate class.\n",
    "\n",
    "Open the file `cs231n/solver.py` and read through it to familiarize yourself with the API. After doing so, use a `Solver` instance to train a `TwoLayerNet` that achieves at least `50%` accuracy on the validation set."
   ]
  },
  {
   "cell_type": "code",
   "execution_count": 77,
   "metadata": {
    "collapsed": false,
    "deletable": true,
    "editable": true
   },
   "outputs": [
    {
     "name": "stdout",
     "output_type": "stream",
     "text": [
      "(Iteration 1 / 4900) loss: 2.304257\n",
      "(Epoch 0 / 10) train acc: 0.110000; val_acc: 0.123000\n",
      "(Iteration 11 / 4900) loss: 2.291427\n",
      "(Iteration 21 / 4900) loss: 2.228870\n",
      "(Iteration 31 / 4900) loss: 2.195065\n",
      "(Iteration 41 / 4900) loss: 2.147867\n",
      "(Iteration 51 / 4900) loss: 2.136138\n",
      "(Iteration 61 / 4900) loss: 2.127153\n",
      "(Iteration 71 / 4900) loss: 2.020702\n",
      "(Iteration 81 / 4900) loss: 1.981148\n",
      "(Iteration 91 / 4900) loss: 1.977924\n",
      "(Iteration 101 / 4900) loss: 2.025674\n",
      "(Iteration 111 / 4900) loss: 1.981248\n",
      "(Iteration 121 / 4900) loss: 2.022884\n",
      "(Iteration 131 / 4900) loss: 1.887666\n",
      "(Iteration 141 / 4900) loss: 1.886487\n",
      "(Iteration 151 / 4900) loss: 1.894795\n",
      "(Iteration 161 / 4900) loss: 1.935698\n",
      "(Iteration 171 / 4900) loss: 1.905238\n",
      "(Iteration 181 / 4900) loss: 1.933829\n",
      "(Iteration 191 / 4900) loss: 1.779027\n",
      "(Iteration 201 / 4900) loss: 1.817465\n",
      "(Iteration 211 / 4900) loss: 1.751126\n",
      "(Iteration 221 / 4900) loss: 1.684376\n",
      "(Iteration 231 / 4900) loss: 1.635883\n",
      "(Iteration 241 / 4900) loss: 1.966861\n",
      "(Iteration 251 / 4900) loss: 1.762593\n",
      "(Iteration 261 / 4900) loss: 1.850407\n",
      "(Iteration 271 / 4900) loss: 1.734484\n",
      "(Iteration 281 / 4900) loss: 1.807575\n",
      "(Iteration 291 / 4900) loss: 1.808515\n",
      "(Iteration 301 / 4900) loss: 1.831817\n",
      "(Iteration 311 / 4900) loss: 1.892529\n",
      "(Iteration 321 / 4900) loss: 1.729214\n",
      "(Iteration 331 / 4900) loss: 1.730167\n",
      "(Iteration 341 / 4900) loss: 1.844210\n",
      "(Iteration 351 / 4900) loss: 1.822091\n",
      "(Iteration 361 / 4900) loss: 1.752854\n",
      "(Iteration 371 / 4900) loss: 1.665140\n",
      "(Iteration 381 / 4900) loss: 1.523341\n",
      "(Iteration 391 / 4900) loss: 1.692891\n",
      "(Iteration 401 / 4900) loss: 1.621697\n",
      "(Iteration 411 / 4900) loss: 1.807440\n",
      "(Iteration 421 / 4900) loss: 1.621447\n",
      "(Iteration 431 / 4900) loss: 1.648200\n",
      "(Iteration 441 / 4900) loss: 1.541280\n",
      "(Iteration 451 / 4900) loss: 1.654998\n",
      "(Iteration 461 / 4900) loss: 1.511529\n",
      "(Iteration 471 / 4900) loss: 1.664744\n",
      "(Iteration 481 / 4900) loss: 1.556852\n",
      "(Epoch 1 / 10) train acc: 0.430000; val_acc: 0.438000\n",
      "(Iteration 491 / 4900) loss: 1.738134\n",
      "(Iteration 501 / 4900) loss: 1.649436\n",
      "(Iteration 511 / 4900) loss: 1.579486\n",
      "(Iteration 521 / 4900) loss: 1.421421\n",
      "(Iteration 531 / 4900) loss: 1.593426\n",
      "(Iteration 541 / 4900) loss: 1.728647\n",
      "(Iteration 551 / 4900) loss: 1.521349\n",
      "(Iteration 561 / 4900) loss: 1.475518\n",
      "(Iteration 571 / 4900) loss: 1.578152\n",
      "(Iteration 581 / 4900) loss: 1.638360\n",
      "(Iteration 591 / 4900) loss: 1.497663\n",
      "(Iteration 601 / 4900) loss: 1.453444\n",
      "(Iteration 611 / 4900) loss: 1.551840\n",
      "(Iteration 621 / 4900) loss: 1.619354\n",
      "(Iteration 631 / 4900) loss: 1.454884\n",
      "(Iteration 641 / 4900) loss: 1.676163\n",
      "(Iteration 651 / 4900) loss: 1.516374\n",
      "(Iteration 661 / 4900) loss: 1.589835\n",
      "(Iteration 671 / 4900) loss: 1.505269\n",
      "(Iteration 681 / 4900) loss: 1.404520\n",
      "(Iteration 691 / 4900) loss: 1.516226\n",
      "(Iteration 701 / 4900) loss: 1.392774\n",
      "(Iteration 711 / 4900) loss: 1.630257\n",
      "(Iteration 721 / 4900) loss: 1.601949\n",
      "(Iteration 731 / 4900) loss: 1.475870\n",
      "(Iteration 741 / 4900) loss: 1.517149\n",
      "(Iteration 751 / 4900) loss: 1.485366\n",
      "(Iteration 761 / 4900) loss: 1.598458\n",
      "(Iteration 771 / 4900) loss: 1.546097\n",
      "(Iteration 781 / 4900) loss: 1.631248\n",
      "(Iteration 791 / 4900) loss: 1.467180\n",
      "(Iteration 801 / 4900) loss: 1.508216\n",
      "(Iteration 811 / 4900) loss: 1.385064\n",
      "(Iteration 821 / 4900) loss: 1.491870\n",
      "(Iteration 831 / 4900) loss: 1.472701\n",
      "(Iteration 841 / 4900) loss: 1.587340\n",
      "(Iteration 851 / 4900) loss: 1.329618\n",
      "(Iteration 861 / 4900) loss: 1.522339\n",
      "(Iteration 871 / 4900) loss: 1.696793\n",
      "(Iteration 881 / 4900) loss: 1.479910\n",
      "(Iteration 891 / 4900) loss: 1.621047\n",
      "(Iteration 901 / 4900) loss: 1.682895\n",
      "(Iteration 911 / 4900) loss: 1.280491\n",
      "(Iteration 921 / 4900) loss: 1.492355\n",
      "(Iteration 931 / 4900) loss: 1.449629\n",
      "(Iteration 941 / 4900) loss: 1.303826\n",
      "(Iteration 951 / 4900) loss: 1.499413\n",
      "(Iteration 961 / 4900) loss: 1.521463\n",
      "(Iteration 971 / 4900) loss: 1.594311\n",
      "(Epoch 2 / 10) train acc: 0.492000; val_acc: 0.463000\n",
      "(Iteration 981 / 4900) loss: 1.487294\n",
      "(Iteration 991 / 4900) loss: 1.335644\n",
      "(Iteration 1001 / 4900) loss: 1.453751\n",
      "(Iteration 1011 / 4900) loss: 1.458830\n",
      "(Iteration 1021 / 4900) loss: 1.801369\n",
      "(Iteration 1031 / 4900) loss: 1.688212\n",
      "(Iteration 1041 / 4900) loss: 1.533003\n",
      "(Iteration 1051 / 4900) loss: 1.476662\n",
      "(Iteration 1061 / 4900) loss: 1.524500\n",
      "(Iteration 1071 / 4900) loss: 1.594380\n",
      "(Iteration 1081 / 4900) loss: 1.349396\n",
      "(Iteration 1091 / 4900) loss: 1.252745\n",
      "(Iteration 1101 / 4900) loss: 1.466756\n",
      "(Iteration 1111 / 4900) loss: 1.582194\n",
      "(Iteration 1121 / 4900) loss: 1.414194\n",
      "(Iteration 1131 / 4900) loss: 1.387182\n",
      "(Iteration 1141 / 4900) loss: 1.538385\n",
      "(Iteration 1151 / 4900) loss: 1.398370\n",
      "(Iteration 1161 / 4900) loss: 1.477581\n",
      "(Iteration 1171 / 4900) loss: 1.204231\n",
      "(Iteration 1181 / 4900) loss: 1.362508\n",
      "(Iteration 1191 / 4900) loss: 1.249294\n",
      "(Iteration 1201 / 4900) loss: 1.295693\n",
      "(Iteration 1211 / 4900) loss: 1.408845\n",
      "(Iteration 1221 / 4900) loss: 1.728993\n",
      "(Iteration 1231 / 4900) loss: 1.334596\n",
      "(Iteration 1241 / 4900) loss: 1.397433\n",
      "(Iteration 1251 / 4900) loss: 1.597810\n",
      "(Iteration 1261 / 4900) loss: 1.622263\n",
      "(Iteration 1271 / 4900) loss: 1.395367\n",
      "(Iteration 1281 / 4900) loss: 1.305599\n",
      "(Iteration 1291 / 4900) loss: 1.434646\n",
      "(Iteration 1301 / 4900) loss: 1.464701\n",
      "(Iteration 1311 / 4900) loss: 1.501610\n",
      "(Iteration 1321 / 4900) loss: 1.290712\n",
      "(Iteration 1331 / 4900) loss: 1.384478\n",
      "(Iteration 1341 / 4900) loss: 1.436789\n",
      "(Iteration 1351 / 4900) loss: 1.415324\n",
      "(Iteration 1361 / 4900) loss: 1.305166\n",
      "(Iteration 1371 / 4900) loss: 1.323190\n",
      "(Iteration 1381 / 4900) loss: 1.573484\n",
      "(Iteration 1391 / 4900) loss: 1.493879\n",
      "(Iteration 1401 / 4900) loss: 1.244191\n",
      "(Iteration 1411 / 4900) loss: 1.390299\n",
      "(Iteration 1421 / 4900) loss: 1.435095\n",
      "(Iteration 1431 / 4900) loss: 1.434557\n",
      "(Iteration 1441 / 4900) loss: 1.507451\n",
      "(Iteration 1451 / 4900) loss: 1.363864\n",
      "(Iteration 1461 / 4900) loss: 1.587506\n",
      "(Epoch 3 / 10) train acc: 0.530000; val_acc: 0.482000\n",
      "(Iteration 1471 / 4900) loss: 1.326025\n",
      "(Iteration 1481 / 4900) loss: 1.291577\n",
      "(Iteration 1491 / 4900) loss: 1.441516\n",
      "(Iteration 1501 / 4900) loss: 1.293207\n",
      "(Iteration 1511 / 4900) loss: 1.296055\n",
      "(Iteration 1521 / 4900) loss: 1.389755\n",
      "(Iteration 1531 / 4900) loss: 1.384435\n",
      "(Iteration 1541 / 4900) loss: 1.415747\n",
      "(Iteration 1551 / 4900) loss: 1.312799\n",
      "(Iteration 1561 / 4900) loss: 1.280359\n",
      "(Iteration 1571 / 4900) loss: 1.429476\n",
      "(Iteration 1581 / 4900) loss: 1.306054\n",
      "(Iteration 1591 / 4900) loss: 1.392870\n",
      "(Iteration 1601 / 4900) loss: 1.394193\n",
      "(Iteration 1611 / 4900) loss: 1.267395\n",
      "(Iteration 1621 / 4900) loss: 1.436864\n",
      "(Iteration 1631 / 4900) loss: 1.256974\n",
      "(Iteration 1641 / 4900) loss: 1.308079\n",
      "(Iteration 1651 / 4900) loss: 1.246418\n",
      "(Iteration 1661 / 4900) loss: 1.502145\n",
      "(Iteration 1671 / 4900) loss: 1.462813\n",
      "(Iteration 1681 / 4900) loss: 1.254539\n",
      "(Iteration 1691 / 4900) loss: 1.475928\n",
      "(Iteration 1701 / 4900) loss: 1.352007\n",
      "(Iteration 1711 / 4900) loss: 1.438544\n",
      "(Iteration 1721 / 4900) loss: 1.480311\n",
      "(Iteration 1731 / 4900) loss: 1.319967\n",
      "(Iteration 1741 / 4900) loss: 1.238968\n",
      "(Iteration 1751 / 4900) loss: 1.494046\n",
      "(Iteration 1761 / 4900) loss: 1.376456\n",
      "(Iteration 1771 / 4900) loss: 1.507203\n",
      "(Iteration 1781 / 4900) loss: 1.474474\n",
      "(Iteration 1791 / 4900) loss: 1.545519\n",
      "(Iteration 1801 / 4900) loss: 1.654170\n",
      "(Iteration 1811 / 4900) loss: 1.353465\n",
      "(Iteration 1821 / 4900) loss: 1.627395\n",
      "(Iteration 1831 / 4900) loss: 1.486164\n",
      "(Iteration 1841 / 4900) loss: 1.505171\n",
      "(Iteration 1851 / 4900) loss: 1.468718\n",
      "(Iteration 1861 / 4900) loss: 1.206957\n",
      "(Iteration 1871 / 4900) loss: 1.333723\n",
      "(Iteration 1881 / 4900) loss: 1.373951\n",
      "(Iteration 1891 / 4900) loss: 1.305463\n",
      "(Iteration 1901 / 4900) loss: 1.439712\n",
      "(Iteration 1911 / 4900) loss: 1.382896\n",
      "(Iteration 1921 / 4900) loss: 1.370026\n",
      "(Iteration 1931 / 4900) loss: 1.390481\n",
      "(Iteration 1941 / 4900) loss: 1.333119\n",
      "(Iteration 1951 / 4900) loss: 1.384510\n",
      "(Epoch 4 / 10) train acc: 0.498000; val_acc: 0.489000\n",
      "(Iteration 1961 / 4900) loss: 1.552578\n",
      "(Iteration 1971 / 4900) loss: 1.282724\n",
      "(Iteration 1981 / 4900) loss: 1.515170\n",
      "(Iteration 1991 / 4900) loss: 1.295586\n",
      "(Iteration 2001 / 4900) loss: 1.123522\n",
      "(Iteration 2011 / 4900) loss: 1.595273\n",
      "(Iteration 2021 / 4900) loss: 1.290917\n",
      "(Iteration 2031 / 4900) loss: 1.405938\n",
      "(Iteration 2041 / 4900) loss: 1.426458\n",
      "(Iteration 2051 / 4900) loss: 1.196630\n",
      "(Iteration 2061 / 4900) loss: 1.288655\n",
      "(Iteration 2071 / 4900) loss: 1.261321\n",
      "(Iteration 2081 / 4900) loss: 1.218337\n",
      "(Iteration 2091 / 4900) loss: 1.415748\n",
      "(Iteration 2101 / 4900) loss: 1.462920\n",
      "(Iteration 2111 / 4900) loss: 1.335794\n",
      "(Iteration 2121 / 4900) loss: 1.258625\n",
      "(Iteration 2131 / 4900) loss: 1.280686\n",
      "(Iteration 2141 / 4900) loss: 1.301656\n",
      "(Iteration 2151 / 4900) loss: 1.297756\n",
      "(Iteration 2161 / 4900) loss: 1.342982\n",
      "(Iteration 2171 / 4900) loss: 1.373339\n",
      "(Iteration 2181 / 4900) loss: 1.497653\n",
      "(Iteration 2191 / 4900) loss: 1.560877\n",
      "(Iteration 2201 / 4900) loss: 1.461587\n",
      "(Iteration 2211 / 4900) loss: 1.319588\n",
      "(Iteration 2221 / 4900) loss: 1.404284\n",
      "(Iteration 2231 / 4900) loss: 1.137291\n",
      "(Iteration 2241 / 4900) loss: 1.471645\n",
      "(Iteration 2251 / 4900) loss: 1.062416\n",
      "(Iteration 2261 / 4900) loss: 1.398239\n",
      "(Iteration 2271 / 4900) loss: 1.328319\n",
      "(Iteration 2281 / 4900) loss: 1.208830\n",
      "(Iteration 2291 / 4900) loss: 1.325667\n",
      "(Iteration 2301 / 4900) loss: 1.251173\n",
      "(Iteration 2311 / 4900) loss: 1.380177\n",
      "(Iteration 2321 / 4900) loss: 1.274018\n",
      "(Iteration 2331 / 4900) loss: 1.167505\n",
      "(Iteration 2341 / 4900) loss: 1.366109\n",
      "(Iteration 2351 / 4900) loss: 1.477365\n",
      "(Iteration 2361 / 4900) loss: 0.990277\n",
      "(Iteration 2371 / 4900) loss: 1.209084\n",
      "(Iteration 2381 / 4900) loss: 1.225524\n",
      "(Iteration 2391 / 4900) loss: 1.393663\n",
      "(Iteration 2401 / 4900) loss: 1.287961\n",
      "(Iteration 2411 / 4900) loss: 1.309294\n",
      "(Iteration 2421 / 4900) loss: 1.324435\n",
      "(Iteration 2431 / 4900) loss: 1.370962\n",
      "(Iteration 2441 / 4900) loss: 1.336390\n",
      "(Epoch 5 / 10) train acc: 0.504000; val_acc: 0.478000\n",
      "(Iteration 2451 / 4900) loss: 1.173948\n",
      "(Iteration 2461 / 4900) loss: 1.284856\n",
      "(Iteration 2471 / 4900) loss: 1.385234\n",
      "(Iteration 2481 / 4900) loss: 1.333248\n",
      "(Iteration 2491 / 4900) loss: 1.507101\n",
      "(Iteration 2501 / 4900) loss: 1.402077\n",
      "(Iteration 2511 / 4900) loss: 1.435589\n",
      "(Iteration 2521 / 4900) loss: 1.200985\n",
      "(Iteration 2531 / 4900) loss: 1.481594\n",
      "(Iteration 2541 / 4900) loss: 1.624763\n",
      "(Iteration 2551 / 4900) loss: 1.224854\n",
      "(Iteration 2561 / 4900) loss: 1.323544\n",
      "(Iteration 2571 / 4900) loss: 1.374652\n",
      "(Iteration 2581 / 4900) loss: 1.298462\n",
      "(Iteration 2591 / 4900) loss: 1.620503\n",
      "(Iteration 2601 / 4900) loss: 1.020663\n",
      "(Iteration 2611 / 4900) loss: 1.126383\n",
      "(Iteration 2621 / 4900) loss: 1.182661\n",
      "(Iteration 2631 / 4900) loss: 1.650594\n",
      "(Iteration 2641 / 4900) loss: 1.433020\n",
      "(Iteration 2651 / 4900) loss: 1.296924\n",
      "(Iteration 2661 / 4900) loss: 1.356201\n",
      "(Iteration 2671 / 4900) loss: 1.355836\n",
      "(Iteration 2681 / 4900) loss: 1.336772\n",
      "(Iteration 2691 / 4900) loss: 1.224713\n",
      "(Iteration 2701 / 4900) loss: 1.497316\n",
      "(Iteration 2711 / 4900) loss: 1.387204\n",
      "(Iteration 2721 / 4900) loss: 1.443941\n",
      "(Iteration 2731 / 4900) loss: 1.251000\n",
      "(Iteration 2741 / 4900) loss: 1.269064\n",
      "(Iteration 2751 / 4900) loss: 1.368330\n",
      "(Iteration 2761 / 4900) loss: 1.314172\n",
      "(Iteration 2771 / 4900) loss: 1.127566\n",
      "(Iteration 2781 / 4900) loss: 1.386251\n",
      "(Iteration 2791 / 4900) loss: 1.286051\n",
      "(Iteration 2801 / 4900) loss: 1.238325\n",
      "(Iteration 2811 / 4900) loss: 1.252810\n",
      "(Iteration 2821 / 4900) loss: 1.402476\n",
      "(Iteration 2831 / 4900) loss: 1.423150\n",
      "(Iteration 2841 / 4900) loss: 1.463116\n",
      "(Iteration 2851 / 4900) loss: 1.388086\n",
      "(Iteration 2861 / 4900) loss: 1.579635\n",
      "(Iteration 2871 / 4900) loss: 1.181248\n",
      "(Iteration 2881 / 4900) loss: 1.237840\n",
      "(Iteration 2891 / 4900) loss: 1.378241\n",
      "(Iteration 2901 / 4900) loss: 1.089474\n",
      "(Iteration 2911 / 4900) loss: 1.431682\n",
      "(Iteration 2921 / 4900) loss: 1.147143\n",
      "(Iteration 2931 / 4900) loss: 1.492140\n",
      "(Epoch 6 / 10) train acc: 0.533000; val_acc: 0.470000\n",
      "(Iteration 2941 / 4900) loss: 1.351576\n",
      "(Iteration 2951 / 4900) loss: 1.340646\n",
      "(Iteration 2961 / 4900) loss: 1.243049\n",
      "(Iteration 2971 / 4900) loss: 1.427411\n",
      "(Iteration 2981 / 4900) loss: 1.118853\n",
      "(Iteration 2991 / 4900) loss: 1.428460\n",
      "(Iteration 3001 / 4900) loss: 1.163643\n",
      "(Iteration 3011 / 4900) loss: 1.438506\n",
      "(Iteration 3021 / 4900) loss: 1.332171\n",
      "(Iteration 3031 / 4900) loss: 1.427537\n",
      "(Iteration 3041 / 4900) loss: 1.171726\n",
      "(Iteration 3051 / 4900) loss: 1.341287\n",
      "(Iteration 3061 / 4900) loss: 1.164973\n",
      "(Iteration 3071 / 4900) loss: 1.254951\n",
      "(Iteration 3081 / 4900) loss: 1.343881\n",
      "(Iteration 3091 / 4900) loss: 1.634503\n",
      "(Iteration 3101 / 4900) loss: 1.206892\n",
      "(Iteration 3111 / 4900) loss: 1.431053\n",
      "(Iteration 3121 / 4900) loss: 1.430420\n",
      "(Iteration 3131 / 4900) loss: 1.452191\n",
      "(Iteration 3141 / 4900) loss: 1.356388\n",
      "(Iteration 3151 / 4900) loss: 1.371506\n",
      "(Iteration 3161 / 4900) loss: 1.236854\n",
      "(Iteration 3171 / 4900) loss: 1.302143\n",
      "(Iteration 3181 / 4900) loss: 1.485994\n",
      "(Iteration 3191 / 4900) loss: 1.343797\n",
      "(Iteration 3201 / 4900) loss: 1.348103\n",
      "(Iteration 3211 / 4900) loss: 1.127801\n",
      "(Iteration 3221 / 4900) loss: 1.422435\n",
      "(Iteration 3231 / 4900) loss: 1.177833\n",
      "(Iteration 3241 / 4900) loss: 1.338084\n",
      "(Iteration 3251 / 4900) loss: 1.145533\n",
      "(Iteration 3261 / 4900) loss: 1.402074\n",
      "(Iteration 3271 / 4900) loss: 1.489084\n",
      "(Iteration 3281 / 4900) loss: 1.064461\n",
      "(Iteration 3291 / 4900) loss: 1.169049\n",
      "(Iteration 3301 / 4900) loss: 1.213289\n",
      "(Iteration 3311 / 4900) loss: 1.261289\n",
      "(Iteration 3321 / 4900) loss: 1.210290\n",
      "(Iteration 3331 / 4900) loss: 1.436308\n",
      "(Iteration 3341 / 4900) loss: 1.560271\n",
      "(Iteration 3351 / 4900) loss: 1.308935\n",
      "(Iteration 3361 / 4900) loss: 1.179308\n",
      "(Iteration 3371 / 4900) loss: 0.919046\n",
      "(Iteration 3381 / 4900) loss: 1.346756\n",
      "(Iteration 3391 / 4900) loss: 1.152532\n",
      "(Iteration 3401 / 4900) loss: 1.238906\n",
      "(Iteration 3411 / 4900) loss: 1.487446\n",
      "(Iteration 3421 / 4900) loss: 1.266202\n",
      "(Epoch 7 / 10) train acc: 0.540000; val_acc: 0.472000\n",
      "(Iteration 3431 / 4900) loss: 1.454068\n",
      "(Iteration 3441 / 4900) loss: 1.211829\n",
      "(Iteration 3451 / 4900) loss: 1.234100\n",
      "(Iteration 3461 / 4900) loss: 1.322964\n",
      "(Iteration 3471 / 4900) loss: 1.226201\n",
      "(Iteration 3481 / 4900) loss: 1.266094\n",
      "(Iteration 3491 / 4900) loss: 1.238627\n",
      "(Iteration 3501 / 4900) loss: 1.273665\n",
      "(Iteration 3511 / 4900) loss: 1.459061\n",
      "(Iteration 3521 / 4900) loss: 1.341372\n",
      "(Iteration 3531 / 4900) loss: 1.350171\n",
      "(Iteration 3541 / 4900) loss: 1.410623\n",
      "(Iteration 3551 / 4900) loss: 1.312490\n",
      "(Iteration 3561 / 4900) loss: 1.370700\n",
      "(Iteration 3571 / 4900) loss: 1.110541\n",
      "(Iteration 3581 / 4900) loss: 1.229587\n",
      "(Iteration 3591 / 4900) loss: 1.275670\n",
      "(Iteration 3601 / 4900) loss: 1.456764\n",
      "(Iteration 3611 / 4900) loss: 1.405503\n",
      "(Iteration 3621 / 4900) loss: 1.635073\n",
      "(Iteration 3631 / 4900) loss: 1.323706\n",
      "(Iteration 3641 / 4900) loss: 1.285765\n",
      "(Iteration 3651 / 4900) loss: 1.512584\n",
      "(Iteration 3661 / 4900) loss: 1.398157\n",
      "(Iteration 3671 / 4900) loss: 1.005654\n",
      "(Iteration 3681 / 4900) loss: 1.184282\n",
      "(Iteration 3691 / 4900) loss: 1.220540\n",
      "(Iteration 3701 / 4900) loss: 1.363695\n",
      "(Iteration 3711 / 4900) loss: 1.155832\n",
      "(Iteration 3721 / 4900) loss: 1.372451\n",
      "(Iteration 3731 / 4900) loss: 1.232488\n",
      "(Iteration 3741 / 4900) loss: 1.305932\n",
      "(Iteration 3751 / 4900) loss: 1.311996\n",
      "(Iteration 3761 / 4900) loss: 1.367206\n",
      "(Iteration 3771 / 4900) loss: 1.124712\n",
      "(Iteration 3781 / 4900) loss: 1.072412\n",
      "(Iteration 3791 / 4900) loss: 1.585142\n",
      "(Iteration 3801 / 4900) loss: 1.057463\n",
      "(Iteration 3811 / 4900) loss: 1.223187\n",
      "(Iteration 3821 / 4900) loss: 1.440480\n",
      "(Iteration 3831 / 4900) loss: 1.434844\n",
      "(Iteration 3841 / 4900) loss: 1.208027\n",
      "(Iteration 3851 / 4900) loss: 1.332947\n",
      "(Iteration 3861 / 4900) loss: 1.136865\n",
      "(Iteration 3871 / 4900) loss: 1.244170\n",
      "(Iteration 3881 / 4900) loss: 1.220946\n",
      "(Iteration 3891 / 4900) loss: 1.155858\n",
      "(Iteration 3901 / 4900) loss: 1.181151\n",
      "(Iteration 3911 / 4900) loss: 1.307544\n",
      "(Epoch 8 / 10) train acc: 0.571000; val_acc: 0.504000\n",
      "(Iteration 3921 / 4900) loss: 1.142722\n",
      "(Iteration 3931 / 4900) loss: 1.128985\n",
      "(Iteration 3941 / 4900) loss: 1.249409\n",
      "(Iteration 3951 / 4900) loss: 1.140959\n",
      "(Iteration 3961 / 4900) loss: 1.176464\n",
      "(Iteration 3971 / 4900) loss: 1.412236\n",
      "(Iteration 3981 / 4900) loss: 1.055027\n",
      "(Iteration 3991 / 4900) loss: 1.385846\n",
      "(Iteration 4001 / 4900) loss: 1.399477\n",
      "(Iteration 4011 / 4900) loss: 1.421110\n",
      "(Iteration 4021 / 4900) loss: 1.185908\n",
      "(Iteration 4031 / 4900) loss: 1.318255\n",
      "(Iteration 4041 / 4900) loss: 1.442177\n",
      "(Iteration 4051 / 4900) loss: 1.276390\n",
      "(Iteration 4061 / 4900) loss: 1.265599\n",
      "(Iteration 4071 / 4900) loss: 1.150518\n",
      "(Iteration 4081 / 4900) loss: 1.224710\n",
      "(Iteration 4091 / 4900) loss: 1.268569\n",
      "(Iteration 4101 / 4900) loss: 1.237414\n",
      "(Iteration 4111 / 4900) loss: 1.168554\n",
      "(Iteration 4121 / 4900) loss: 1.121840\n",
      "(Iteration 4131 / 4900) loss: 1.133924\n",
      "(Iteration 4141 / 4900) loss: 1.055666\n",
      "(Iteration 4151 / 4900) loss: 1.335764\n",
      "(Iteration 4161 / 4900) loss: 1.276893\n",
      "(Iteration 4171 / 4900) loss: 1.179360\n",
      "(Iteration 4181 / 4900) loss: 1.240912\n",
      "(Iteration 4191 / 4900) loss: 1.335743\n",
      "(Iteration 4201 / 4900) loss: 1.029651\n",
      "(Iteration 4211 / 4900) loss: 1.055619\n",
      "(Iteration 4221 / 4900) loss: 1.115159\n",
      "(Iteration 4231 / 4900) loss: 1.198440\n",
      "(Iteration 4241 / 4900) loss: 1.251536\n",
      "(Iteration 4251 / 4900) loss: 1.358798\n",
      "(Iteration 4261 / 4900) loss: 1.185647\n",
      "(Iteration 4271 / 4900) loss: 1.562568\n",
      "(Iteration 4281 / 4900) loss: 1.297419\n",
      "(Iteration 4291 / 4900) loss: 1.374811\n",
      "(Iteration 4301 / 4900) loss: 0.972689\n",
      "(Iteration 4311 / 4900) loss: 1.097905\n",
      "(Iteration 4321 / 4900) loss: 1.060204\n",
      "(Iteration 4331 / 4900) loss: 1.198669\n",
      "(Iteration 4341 / 4900) loss: 1.247343\n",
      "(Iteration 4351 / 4900) loss: 1.343471\n",
      "(Iteration 4361 / 4900) loss: 1.193374\n",
      "(Iteration 4371 / 4900) loss: 1.287514\n",
      "(Iteration 4381 / 4900) loss: 1.153814\n",
      "(Iteration 4391 / 4900) loss: 1.269519\n",
      "(Iteration 4401 / 4900) loss: 1.192827\n",
      "(Epoch 9 / 10) train acc: 0.587000; val_acc: 0.505000\n",
      "(Iteration 4411 / 4900) loss: 1.252350\n",
      "(Iteration 4421 / 4900) loss: 1.147369\n",
      "(Iteration 4431 / 4900) loss: 1.069763\n",
      "(Iteration 4441 / 4900) loss: 1.237430\n",
      "(Iteration 4451 / 4900) loss: 1.025620\n",
      "(Iteration 4461 / 4900) loss: 1.227407\n",
      "(Iteration 4471 / 4900) loss: 1.072327\n",
      "(Iteration 4481 / 4900) loss: 1.339935\n",
      "(Iteration 4491 / 4900) loss: 1.230302\n",
      "(Iteration 4501 / 4900) loss: 1.216019\n",
      "(Iteration 4511 / 4900) loss: 1.113266\n",
      "(Iteration 4521 / 4900) loss: 1.261791\n",
      "(Iteration 4531 / 4900) loss: 1.267380\n",
      "(Iteration 4541 / 4900) loss: 1.089882\n",
      "(Iteration 4551 / 4900) loss: 1.211709\n",
      "(Iteration 4561 / 4900) loss: 1.309944\n",
      "(Iteration 4571 / 4900) loss: 1.288210\n",
      "(Iteration 4581 / 4900) loss: 1.173464\n",
      "(Iteration 4591 / 4900) loss: 1.123857\n",
      "(Iteration 4601 / 4900) loss: 0.928646\n",
      "(Iteration 4611 / 4900) loss: 1.137616\n",
      "(Iteration 4621 / 4900) loss: 1.171602\n",
      "(Iteration 4631 / 4900) loss: 1.055351\n",
      "(Iteration 4641 / 4900) loss: 1.094341\n",
      "(Iteration 4651 / 4900) loss: 1.061238\n",
      "(Iteration 4661 / 4900) loss: 1.251924\n",
      "(Iteration 4671 / 4900) loss: 1.266685\n",
      "(Iteration 4681 / 4900) loss: 1.358477\n",
      "(Iteration 4691 / 4900) loss: 1.289217\n",
      "(Iteration 4701 / 4900) loss: 1.261997\n",
      "(Iteration 4711 / 4900) loss: 1.150260\n",
      "(Iteration 4721 / 4900) loss: 1.426162\n",
      "(Iteration 4731 / 4900) loss: 1.329975\n",
      "(Iteration 4741 / 4900) loss: 1.221116\n",
      "(Iteration 4751 / 4900) loss: 1.244372\n",
      "(Iteration 4761 / 4900) loss: 1.273270\n",
      "(Iteration 4771 / 4900) loss: 1.087645\n",
      "(Iteration 4781 / 4900) loss: 1.323364\n",
      "(Iteration 4791 / 4900) loss: 1.141157\n",
      "(Iteration 4801 / 4900) loss: 1.311968\n",
      "(Iteration 4811 / 4900) loss: 1.359104\n",
      "(Iteration 4821 / 4900) loss: 0.886904\n",
      "(Iteration 4831 / 4900) loss: 1.574557\n",
      "(Iteration 4841 / 4900) loss: 1.019699\n",
      "(Iteration 4851 / 4900) loss: 1.278848\n",
      "(Iteration 4861 / 4900) loss: 1.030055\n",
      "(Iteration 4871 / 4900) loss: 0.978482\n",
      "(Iteration 4881 / 4900) loss: 1.237360\n",
      "(Iteration 4891 / 4900) loss: 1.290516\n",
      "(Epoch 10 / 10) train acc: 0.573000; val_acc: 0.466000\n"
     ]
    }
   ],
   "source": [
    "model = TwoLayerNet()\n",
    "solver = Solver(model, data, optim_config={'learning_rate':.001})\n",
    "\n",
    "##############################################################################\n",
    "# TODO: Use a Solver instance to train a TwoLayerNet that achieves at least  #\n",
    "# 50% accuracy on the validation set.                                        #\n",
    "##############################################################################\n",
    "solver.train()\n",
    "##############################################################################\n",
    "#                             END OF YOUR CODE                               #\n",
    "##############################################################################"
   ]
  },
  {
   "cell_type": "code",
   "execution_count": 78,
   "metadata": {
    "collapsed": false,
    "deletable": true,
    "editable": true
   },
   "outputs": [
    {
     "data": {
      "image/png": "[encoded data removed]",
      "text/plain": [
       "<matplotlib.figure.Figure at 0x1106f99b0>"
      ]
     },
     "metadata": {},
     "output_type": "display_data"
    }
   ],
   "source": [
    "# Run this cell to visualize training loss and train / val accuracy\n",
    "\n",
    "plt.subplot(2, 1, 1)\n",
    "plt.title('Training loss')\n",
    "plt.plot(solver.loss_history, 'o')\n",
    "plt.xlabel('Iteration')\n",
    "\n",
    "plt.subplot(2, 1, 2)\n",
    "plt.title('Accuracy')\n",
    "plt.plot(solver.train_acc_history, '-o', label='train')\n",
    "plt.plot(solver.val_acc_history, '-o', label='val')\n",
    "plt.plot([0.5] * len(solver.val_acc_history), 'k--')\n",
    "plt.xlabel('Epoch')\n",
    "plt.legend(loc='lower right')\n",
    "plt.gcf().set_size_inches(15, 12)\n",
    "plt.show()"
   ]
  },
  {
   "cell_type": "markdown",
   "metadata": {
    "deletable": true,
    "editable": true
   },
   "source": [
    "# Multilayer network\n",
    "Next you will implement a fully-connected network with an arbitrary number of hidden layers.\n",
    "\n",
    "Read through the `FullyConnectedNet` class in the file `cs231n/classifiers/fc_net.py`.\n",
    "\n",
    "Implement the initialization, the forward pass, and the backward pass. For the moment don't worry about implementing dropout or batch normalization; we will add those features soon."
   ]
  },
  {
   "cell_type": "markdown",
   "metadata": {
    "deletable": true,
    "editable": true
   },
   "source": [
    "## Initial loss and gradient check"
   ]
  },
  {
   "cell_type": "markdown",
   "metadata": {
    "deletable": true,
    "editable": true
   },
   "source": [
    "As a sanity check, run the following to check the initial loss and to gradient check the network both with and without regularization. Do the initial losses seem reasonable?\n",
    "\n",
    "For gradient checking, you should expect to see errors around 1e-6 or less."
   ]
  },
  {
   "cell_type": "code",
   "execution_count": 105,
   "metadata": {
    "collapsed": false,
    "deletable": true,
    "editable": true
   },
   "outputs": [
    {
     "name": "stdout",
     "output_type": "stream",
     "text": [
      "Running check with reg =  0\n",
      "Initial loss:  2.30305969832\n",
      "W1 relative error: 3.04e-07\n",
      "W2 relative error: 9.48e-06\n",
      "W3 relative error: 1.14e-07\n",
      "b1 relative error: 1.19e-08\n",
      "b2 relative error: 1.90e-08\n",
      "b3 relative error: 1.45e-10\n",
      "Running check with reg =  3.14\n",
      "Initial loss:  7.05230905556\n",
      "W1 relative error: 1.38e-08\n",
      "W2 relative error: 6.87e-08\n",
      "W3 relative error: 8.66e-09\n",
      "b1 relative error: 3.25e-08\n",
      "b2 relative error: 3.96e-09\n",
      "b3 relative error: 2.41e-10\n"
     ]
    }
   ],
   "source": [
    "np.random.seed(231)\n",
    "N, D, H1, H2, C = 2, 15, 20, 30, 10\n",
    "X = np.random.randn(N, D)\n",
    "y = np.random.randint(C, size=(N,))\n",
    "\n",
    "for reg in [0, 3.14]:\n",
    "  print('Running check with reg = ', reg)\n",
    "  model = FullyConnectedNet([H1, H2], input_dim=D, num_classes=C,\n",
    "                            reg=reg, weight_scale=5e-2, dtype=np.float64)\n",
    "\n",
    "  loss, grads = model.loss(X, y)\n",
    "  print('Initial loss: ', loss)\n",
    "\n",
    "  for name in sorted(grads):\n",
    "    f = lambda _: model.loss(X, y)[0]\n",
    "    grad_num = eval_numerical_gradient(f, model.params[name], verbose=False, h=1e-5)\n",
    "    print('%s relative error: %.2e' % (name, rel_error(grad_num, grads[name])))"
   ]
  },
  {
   "cell_type": "markdown",
   "metadata": {
    "deletable": true,
    "editable": true
   },
   "source": [
    "As another sanity check, make sure you can overfit a small dataset of 50 images. First we will try a three-layer network with 100 units in each hidden layer. You will need to tweak the learning rate and initialization scale, but you should be able to overfit and achieve 100% training accuracy within 20 epochs."
   ]
  },
  {
   "cell_type": "code",
   "execution_count": 216,
   "metadata": {
    "collapsed": false,
    "deletable": true,
    "editable": true,
    "scrolled": false
   },
   "outputs": [
    {
     "name": "stdout",
     "output_type": "stream",
     "text": [
      "(Iteration 1 / 40) loss: 2.329687\n",
      "(Epoch 0 / 20) train acc: 0.220000; val_acc: 0.116000\n",
      "(Epoch 1 / 20) train acc: 0.360000; val_acc: 0.146000\n",
      "(Epoch 2 / 20) train acc: 0.340000; val_acc: 0.137000\n",
      "(Epoch 3 / 20) train acc: 0.480000; val_acc: 0.147000\n",
      "(Epoch 4 / 20) train acc: 0.480000; val_acc: 0.160000\n",
      "(Epoch 5 / 20) train acc: 0.520000; val_acc: 0.136000\n",
      "(Iteration 11 / 40) loss: 1.534006\n",
      "(Epoch 6 / 20) train acc: 0.600000; val_acc: 0.174000\n",
      "(Epoch 7 / 20) train acc: 0.600000; val_acc: 0.160000\n",
      "(Epoch 8 / 20) train acc: 0.680000; val_acc: 0.151000\n",
      "(Epoch 9 / 20) train acc: 0.680000; val_acc: 0.174000\n",
      "(Epoch 10 / 20) train acc: 0.680000; val_acc: 0.174000\n",
      "(Iteration 21 / 40) loss: 1.012078\n",
      "(Epoch 11 / 20) train acc: 0.640000; val_acc: 0.163000\n",
      "(Epoch 12 / 20) train acc: 0.700000; val_acc: 0.167000\n",
      "(Epoch 13 / 20) train acc: 0.740000; val_acc: 0.199000\n",
      "(Epoch 14 / 20) train acc: 0.740000; val_acc: 0.199000\n",
      "(Epoch 15 / 20) train acc: 0.760000; val_acc: 0.169000\n",
      "(Iteration 31 / 40) loss: 1.191737\n",
      "(Epoch 16 / 20) train acc: 0.780000; val_acc: 0.173000\n",
      "(Epoch 17 / 20) train acc: 0.800000; val_acc: 0.193000\n",
      "(Epoch 18 / 20) train acc: 0.800000; val_acc: 0.189000\n",
      "(Epoch 19 / 20) train acc: 0.800000; val_acc: 0.204000\n",
      "(Epoch 20 / 20) train acc: 0.800000; val_acc: 0.197000\n"
     ]
    },
    {
     "data": {
      "image/png": "[encoded data removed]",
      "text/plain": [
       "<matplotlib.figure.Figure at 0x117dced68>"
      ]
     },
     "metadata": {},
     "output_type": "display_data"
    }
   ],
   "source": [
    "# TODO: Use a three-layer Net to overfit 50 training examples.\n",
    "\n",
    "num_train = 50\n",
    "small_data = {\n",
    "  'X_train': data['X_train'][:num_train],\n",
    "  'y_train': data['y_train'][:num_train],\n",
    "  'X_val': data['X_val'],\n",
    "  'y_val': data['y_val'],\n",
    "}\n",
    "\n",
    "weight_scale = .01\n",
    "learning_rate = .009\n",
    "model = FullyConnectedNet([100, 100],\n",
    "              weight_scale=weight_scale, dtype=np.float64)\n",
    "solver = Solver(model, small_data,\n",
    "                print_every=10, num_epochs=20, batch_size=25,\n",
    "                update_rule='sgd',\n",
    "                optim_config={\n",
    "                  'learning_rate': learning_rate,\n",
    "                }\n",
    "         )\n",
    "solver.train()\n",
    "\n",
    "plt.plot(solver.loss_history, 'o')\n",
    "plt.title('Training loss history')\n",
    "plt.xlabel('Iteration')\n",
    "plt.ylabel('Training loss')\n",
    "plt.show()"
   ]
  },
  {
   "cell_type": "markdown",
   "metadata": {
    "deletable": true,
    "editable": true
   },
   "source": [
    "Now try to use a five-layer network with 100 units on each layer to overfit 50 training examples. Again you will have to adjust the learning rate and weight initialization, but you should be able to achieve 100% training accuracy within 20 epochs."
   ]
  },
  {
   "cell_type": "code",
   "execution_count": 262,
   "metadata": {
    "collapsed": false,
    "deletable": true,
    "editable": true
   },
   "outputs": [
    {
     "name": "stdout",
     "output_type": "stream",
     "text": [
      "(Iteration 1 / 40) loss: 2.364212\n",
      "(Epoch 0 / 20) train acc: 0.200000; val_acc: 0.098000\n",
      "(Epoch 1 / 20) train acc: 0.220000; val_acc: 0.116000\n",
      "(Epoch 2 / 20) train acc: 0.220000; val_acc: 0.127000\n",
      "(Epoch 3 / 20) train acc: 0.300000; val_acc: 0.127000\n",
      "(Epoch 4 / 20) train acc: 0.380000; val_acc: 0.130000\n",
      "(Epoch 5 / 20) train acc: 0.460000; val_acc: 0.131000\n",
      "(Iteration 11 / 40) loss: 1.561457\n",
      "(Epoch 6 / 20) train acc: 0.420000; val_acc: 0.110000\n",
      "(Epoch 7 / 20) train acc: 0.580000; val_acc: 0.151000\n",
      "(Epoch 8 / 20) train acc: 0.620000; val_acc: 0.138000\n",
      "(Epoch 9 / 20) train acc: 0.400000; val_acc: 0.113000\n",
      "(Epoch 10 / 20) train acc: 0.640000; val_acc: 0.181000\n",
      "(Iteration 21 / 40) loss: 0.910275\n",
      "(Epoch 11 / 20) train acc: 0.640000; val_acc: 0.155000\n",
      "(Epoch 12 / 20) train acc: 0.720000; val_acc: 0.171000\n",
      "(Epoch 13 / 20) train acc: 0.720000; val_acc: 0.138000\n",
      "(Epoch 14 / 20) train acc: 0.760000; val_acc: 0.147000\n",
      "(Epoch 15 / 20) train acc: 0.780000; val_acc: 0.165000\n",
      "(Iteration 31 / 40) loss: 0.817707\n",
      "(Epoch 16 / 20) train acc: 0.760000; val_acc: 0.158000\n",
      "(Epoch 17 / 20) train acc: 0.740000; val_acc: 0.164000\n",
      "(Epoch 18 / 20) train acc: 0.740000; val_acc: 0.148000\n",
      "(Epoch 19 / 20) train acc: 0.780000; val_acc: 0.153000\n",
      "(Epoch 20 / 20) train acc: 0.760000; val_acc: 0.154000\n"
     ]
    },
    {
     "data": {
      "image/png": "[encoded data removed]",
      "text/plain": [
       "<matplotlib.figure.Figure at 0x114d45ac8>"
      ]
     },
     "metadata": {},
     "output_type": "display_data"
    }
   ],
   "source": [
    "# TODO: Use a five-layer Net to overfit 50 training examples.\n",
    "\n",
    "num_train = 50\n",
    "small_data = {\n",
    "  'X_train': data['X_train'][:num_train],\n",
    "  'y_train': data['y_train'][:num_train],\n",
    "  'X_val': data['X_val'],\n",
    "  'y_val': data['y_val'],\n",
    "}\n",
    "\n",
    "learning_rate =  0.020\n",
    "weight_scale = 0.035\n",
    "model = FullyConnectedNet([100, 100, 100, 100],\n",
    "                weight_scale=weight_scale, dtype=np.float64)\n",
    "solver = Solver(model, small_data,\n",
    "                print_every=10, num_epochs=20, batch_size=25,\n",
    "                update_rule='sgd',\n",
    "                optim_config={\n",
    "                  'learning_rate': learning_rate,\n",
    "                }\n",
    "         )\n",
    "solver.train()\n",
    "\n",
    "plt.plot(solver.loss_history, 'o')\n",
    "plt.title('Training loss history')\n",
    "plt.xlabel('Iteration')\n",
    "plt.ylabel('Training loss')\n",
    "plt.show()"
   ]
  },
  {
   "cell_type": "markdown",
   "metadata": {
    "deletable": true,
    "editable": true
   },
   "source": [
    "# Inline question: \n",
    "Did you notice anything about the comparative difficulty of training the three-layer net vs training the five layer net?\n",
    "\n",
    "# Answer:\n",
    "[FILL THIS IN]\n"
   ]
  },
  {
   "cell_type": "markdown",
   "metadata": {
    "deletable": true,
    "editable": true
   },
   "source": [
    "# Update rules\n",
    "So far we have used vanilla stochastic gradient descent (SGD) as our update rule. More sophisticated update rules can make it easier to train deep networks. We will implement a few of the most commonly used update rules and compare them to vanilla SGD."
   ]
  },
  {
   "cell_type": "markdown",
   "metadata": {
    "deletable": true,
    "editable": true
   },
   "source": [
    "# SGD+Momentum\n",
    "Stochastic gradient descent with momentum is a widely used update rule that tends to make deep networks converge faster than vanilla stochstic gradient descent.\n",
    "\n",
    "Open the file `cs231n/optim.py` and read the documentation at the top of the file to make sure you understand the API. Implement the SGD+momentum update rule in the function `sgd_momentum` and run the following to check your implementation. You should see errors less than 1e-8."
   ]
  },
  {
   "cell_type": "code",
   "execution_count": 263,
   "metadata": {
    "collapsed": false,
    "deletable": true,
    "editable": true
   },
   "outputs": [
    {
     "name": "stdout",
     "output_type": "stream",
     "text": [
      "next_w error:  8.88234703351e-09\n",
      "velocity error:  4.26928774328e-09\n"
     ]
    }
   ],
   "source": [
    "from cs231n.optim import sgd_momentum\n",
    "\n",
    "N, D = 4, 5\n",
    "w = np.linspace(-0.4, 0.6, num=N*D).reshape(N, D)\n",
    "dw = np.linspace(-0.6, 0.4, num=N*D).reshape(N, D)\n",
    "v = np.linspace(0.6, 0.9, num=N*D).reshape(N, D)\n",
    "\n",
    "config = {'learning_rate': 1e-3, 'velocity': v}\n",
    "next_w, _ = sgd_momentum(w, dw, config=config)\n",
    "\n",
    "expected_next_w = np.asarray([\n",
    "  [ 0.1406,      0.20738947,  0.27417895,  0.34096842,  0.40775789],\n",
    "  [ 0.47454737,  0.54133684,  0.60812632,  0.67491579,  0.74170526],\n",
    "  [ 0.80849474,  0.87528421,  0.94207368,  1.00886316,  1.07565263],\n",
    "  [ 1.14244211,  1.20923158,  1.27602105,  1.34281053,  1.4096    ]])\n",
    "expected_velocity = np.asarray([\n",
    "  [ 0.5406,      0.55475789,  0.56891579, 0.58307368,  0.59723158],\n",
    "  [ 0.61138947,  0.62554737,  0.63970526,  0.65386316,  0.66802105],\n",
    "  [ 0.68217895,  0.69633684,  0.71049474,  0.72465263,  0.73881053],\n",
    "  [ 0.75296842,  0.76712632,  0.78128421,  0.79544211,  0.8096    ]])\n",
    "\n",
    "print('next_w error: ', rel_error(next_w, expected_next_w))\n",
    "print('velocity error: ', rel_error(expected_velocity, config['velocity']))"
   ]
  },
  {
   "cell_type": "markdown",
   "metadata": {
    "deletable": true,
    "editable": true
   },
   "source": [
    "Once you have done so, run the following to train a six-layer network with both SGD and SGD+momentum. You should see the SGD+momentum update rule converge faster."
   ]
  },
  {
   "cell_type": "code",
   "execution_count": 264,
   "metadata": {
    "collapsed": false,
    "deletable": true,
    "editable": true,
    "scrolled": false
   },
   "outputs": [
    {
     "name": "stdout",
     "output_type": "stream",
     "text": [
      "running with  sgd\n",
      "(Iteration 1 / 200) loss: 2.481804\n",
      "(Epoch 0 / 5) train acc: 0.125000; val_acc: 0.112000\n",
      "(Iteration 11 / 200) loss: 2.306150\n",
      "(Iteration 21 / 200) loss: 2.288663\n",
      "(Iteration 31 / 200) loss: 2.165353\n",
      "(Epoch 1 / 5) train acc: 0.220000; val_acc: 0.195000\n",
      "(Iteration 41 / 200) loss: 2.244428\n",
      "(Iteration 51 / 200) loss: 2.176490\n",
      "(Iteration 61 / 200) loss: 2.105645\n",
      "(Iteration 71 / 200) loss: 2.047994\n",
      "(Epoch 2 / 5) train acc: 0.238000; val_acc: 0.208000\n",
      "(Iteration 81 / 200) loss: 2.093560\n",
      "(Iteration 91 / 200) loss: 2.054433\n",
      "(Iteration 101 / 200) loss: 2.033037\n",
      "(Iteration 111 / 200) loss: 1.926684\n",
      "(Epoch 3 / 5) train acc: 0.269000; val_acc: 0.226000\n",
      "(Iteration 121 / 200) loss: 2.105085\n",
      "(Iteration 131 / 200) loss: 2.051755\n",
      "(Iteration 141 / 200) loss: 1.889121\n",
      "(Iteration 151 / 200) loss: 2.042537\n",
      "(Epoch 4 / 5) train acc: 0.285000; val_acc: 0.261000\n",
      "(Iteration 161 / 200) loss: 2.092068\n",
      "(Iteration 171 / 200) loss: 1.992241\n",
      "(Iteration 181 / 200) loss: 2.105515\n",
      "(Iteration 191 / 200) loss: 1.937919\n",
      "(Epoch 5 / 5) train acc: 0.314000; val_acc: 0.262000\n",
      "\n",
      "running with  sgd_momentum\n",
      "(Iteration 1 / 200) loss: 2.360844\n",
      "(Epoch 0 / 5) train acc: 0.110000; val_acc: 0.106000\n",
      "(Iteration 11 / 200) loss: 2.174376\n",
      "(Iteration 21 / 200) loss: 2.234382\n",
      "(Iteration 31 / 200) loss: 2.078039\n",
      "(Epoch 1 / 5) train acc: 0.317000; val_acc: 0.285000\n",
      "(Iteration 41 / 200) loss: 2.049480\n",
      "(Iteration 51 / 200) loss: 1.937718\n",
      "(Iteration 61 / 200) loss: 1.949720\n",
      "(Iteration 71 / 200) loss: 1.958893\n",
      "(Epoch 2 / 5) train acc: 0.352000; val_acc: 0.331000\n",
      "(Iteration 81 / 200) loss: 1.814318\n",
      "(Iteration 91 / 200) loss: 1.723486\n",
      "(Iteration 101 / 200) loss: 1.836504\n",
      "(Iteration 111 / 200) loss: 1.890688\n",
      "(Epoch 3 / 5) train acc: 0.421000; val_acc: 0.327000\n",
      "(Iteration 121 / 200) loss: 1.787313\n",
      "(Iteration 131 / 200) loss: 1.777134\n",
      "(Iteration 141 / 200) loss: 1.735516\n",
      "(Iteration 151 / 200) loss: 1.664754\n",
      "(Epoch 4 / 5) train acc: 0.472000; val_acc: 0.348000\n",
      "(Iteration 161 / 200) loss: 1.543704\n",
      "(Iteration 171 / 200) loss: 1.428567\n",
      "(Iteration 181 / 200) loss: 1.344567\n",
      "(Iteration 191 / 200) loss: 1.572901\n",
      "(Epoch 5 / 5) train acc: 0.496000; val_acc: 0.354000\n",
      "\n"
     ]
    },
    {
     "data": {
      "image/png": "[encoded data removed]",
      "text/plain": [
       "<matplotlib.figure.Figure at 0x1106a74a8>"
      ]
     },
     "metadata": {},
     "output_type": "display_data"
    }
   ],
   "source": [
    "num_train = 4000\n",
    "small_data = {\n",
    "  'X_train': data['X_train'][:num_train],\n",
    "  'y_train': data['y_train'][:num_train],\n",
    "  'X_val': data['X_val'],\n",
    "  'y_val': data['y_val'],\n",
    "}\n",
    "\n",
    "solvers = {}\n",
    "\n",
    "for update_rule in ['sgd', 'sgd_momentum']:\n",
    "  print('running with ', update_rule)\n",
    "  model = FullyConnectedNet([100, 100, 100, 100, 100], weight_scale=5e-2)\n",
    "\n",
    "  solver = Solver(model, small_data,\n",
    "                  num_epochs=5, batch_size=100,\n",
    "                  update_rule=update_rule,\n",
    "                  optim_config={\n",
    "                    'learning_rate': 1e-2,\n",
    "                  },\n",
    "                  verbose=True)\n",
    "  solvers[update_rule] = solver\n",
    "  solver.train()\n",
    "  print()\n",
    "\n",
    "plt.subplot(3, 1, 1)\n",
    "plt.title('Training loss')\n",
    "plt.xlabel('Iteration')\n",
    "\n",
    "plt.subplot(3, 1, 2)\n",
    "plt.title('Training accuracy')\n",
    "plt.xlabel('Epoch')\n",
    "\n",
    "plt.subplot(3, 1, 3)\n",
    "plt.title('Validation accuracy')\n",
    "plt.xlabel('Epoch')\n",
    "\n",
    "for update_rule, solver in list(solvers.items()):\n",
    "  plt.subplot(3, 1, 1)\n",
    "  plt.plot(solver.loss_history, 'o', label=update_rule)\n",
    "  \n",
    "  plt.subplot(3, 1, 2)\n",
    "  plt.plot(solver.train_acc_history, '-o', label=update_rule)\n",
    "\n",
    "  plt.subplot(3, 1, 3)\n",
    "  plt.plot(solver.val_acc_history, '-o', label=update_rule)\n",
    "  \n",
    "for i in [1, 2, 3]:\n",
    "  plt.subplot(3, 1, i)\n",
    "  plt.legend(loc='upper center', ncol=4)\n",
    "plt.gcf().set_size_inches(15, 15)\n",
    "plt.show()"
   ]
  },
  {
   "cell_type": "markdown",
   "metadata": {
    "deletable": true,
    "editable": true
   },
   "source": [
    "# RMSProp and Adam\n",
    "RMSProp [1] and Adam [2] are update rules that set per-parameter learning rates by using a running average of the second moments of gradients.\n",
    "\n",
    "In the file `cs231n/optim.py`, implement the RMSProp update rule in the `rmsprop` function and implement the Adam update rule in the `adam` function, and check your implementations using the tests below.\n",
    "\n",
    "[1] Tijmen Tieleman and Geoffrey Hinton. \"Lecture 6.5-rmsprop: Divide the gradient by a running average of its recent magnitude.\" COURSERA: Neural Networks for Machine Learning 4 (2012).\n",
    "\n",
    "[2] Diederik Kingma and Jimmy Ba, \"Adam: A Method for Stochastic Optimization\", ICLR 2015."
   ]
  },
  {
   "cell_type": "code",
   "execution_count": null,
   "metadata": {
    "collapsed": false,
    "deletable": true,
    "editable": true
   },
   "outputs": [],
   "source": [
    "# Test RMSProp implementation; you should see errors less than 1e-7\n",
    "from cs231n.optim import rmsprop\n",
    "\n",
    "N, D = 4, 5\n",
    "w = np.linspace(-0.4, 0.6, num=N*D).reshape(N, D)\n",
    "dw = np.linspace(-0.6, 0.4, num=N*D).reshape(N, D)\n",
    "cache = np.linspace(0.6, 0.9, num=N*D).reshape(N, D)\n",
    "\n",
    "config = {'learning_rate': 1e-2, 'cache': cache}\n",
    "next_w, _ = rmsprop(w, dw, config=config)\n",
    "\n",
    "expected_next_w = np.asarray([\n",
    "  [-0.39223849, -0.34037513, -0.28849239, -0.23659121, -0.18467247],\n",
    "  [-0.132737,   -0.08078555, -0.02881884,  0.02316247,  0.07515774],\n",
    "  [ 0.12716641,  0.17918792,  0.23122175,  0.28326742,  0.33532447],\n",
    "  [ 0.38739248,  0.43947102,  0.49155973,  0.54365823,  0.59576619]])\n",
    "expected_cache = np.asarray([\n",
    "  [ 0.5976,      0.6126277,   0.6277108,   0.64284931,  0.65804321],\n",
    "  [ 0.67329252,  0.68859723,  0.70395734,  0.71937285,  0.73484377],\n",
    "  [ 0.75037008,  0.7659518,   0.78158892,  0.79728144,  0.81302936],\n",
    "  [ 0.82883269,  0.84469141,  0.86060554,  0.87657507,  0.8926    ]])\n",
    "\n",
    "print('next_w error: ', rel_error(expected_next_w, next_w))\n",
    "print('cache error: ', rel_error(expected_cache, config['cache']))"
   ]
  },
  {
   "cell_type": "code",
   "execution_count": null,
   "metadata": {
    "collapsed": false,
    "deletable": true,
    "editable": true
   },
   "outputs": [],
   "source": [
    "# Test Adam implementation; you should see errors around 1e-7 or less\n",
    "from cs231n.optim import adam\n",
    "\n",
    "N, D = 4, 5\n",
    "w = np.linspace(-0.4, 0.6, num=N*D).reshape(N, D)\n",
    "dw = np.linspace(-0.6, 0.4, num=N*D).reshape(N, D)\n",
    "m = np.linspace(0.6, 0.9, num=N*D).reshape(N, D)\n",
    "v = np.linspace(0.7, 0.5, num=N*D).reshape(N, D)\n",
    "\n",
    "config = {'learning_rate': 1e-2, 'm': m, 'v': v, 't': 5}\n",
    "next_w, _ = adam(w, dw, config=config)\n",
    "\n",
    "expected_next_w = np.asarray([\n",
    "  [-0.40094747, -0.34836187, -0.29577703, -0.24319299, -0.19060977],\n",
    "  [-0.1380274,  -0.08544591, -0.03286534,  0.01971428,  0.0722929],\n",
    "  [ 0.1248705,   0.17744702,  0.23002243,  0.28259667,  0.33516969],\n",
    "  [ 0.38774145,  0.44031188,  0.49288093,  0.54544852,  0.59801459]])\n",
    "expected_v = np.asarray([\n",
    "  [ 0.69966,     0.68908382,  0.67851319,  0.66794809,  0.65738853,],\n",
    "  [ 0.64683452,  0.63628604,  0.6257431,   0.61520571,  0.60467385,],\n",
    "  [ 0.59414753,  0.58362676,  0.57311152,  0.56260183,  0.55209767,],\n",
    "  [ 0.54159906,  0.53110598,  0.52061845,  0.51013645,  0.49966,   ]])\n",
    "expected_m = np.asarray([\n",
    "  [ 0.48,        0.49947368,  0.51894737,  0.53842105,  0.55789474],\n",
    "  [ 0.57736842,  0.59684211,  0.61631579,  0.63578947,  0.65526316],\n",
    "  [ 0.67473684,  0.69421053,  0.71368421,  0.73315789,  0.75263158],\n",
    "  [ 0.77210526,  0.79157895,  0.81105263,  0.83052632,  0.85      ]])\n",
    "\n",
    "print('next_w error: ', rel_error(expected_next_w, next_w))\n",
    "print('v error: ', rel_error(expected_v, config['v']))\n",
    "print('m error: ', rel_error(expected_m, config['m']))"
   ]
  },
  {
   "cell_type": "markdown",
   "metadata": {
    "deletable": true,
    "editable": true
   },
   "source": [
    "Once you have debugged your RMSProp and Adam implementations, run the following to train a pair of deep networks using these new update rules:"
   ]
  },
  {
   "cell_type": "code",
   "execution_count": null,
   "metadata": {
    "collapsed": false,
    "deletable": true,
    "editable": true
   },
   "outputs": [],
   "source": [
    "learning_rates = {'rmsprop': 1e-4, 'adam': 1e-3}\n",
    "for update_rule in ['adam', 'rmsprop']:\n",
    "  print('running with ', update_rule)\n",
    "  model = FullyConnectedNet([100, 100, 100, 100, 100], weight_scale=5e-2)\n",
    "\n",
    "  solver = Solver(model, small_data,\n",
    "                  num_epochs=5, batch_size=100,\n",
    "                  update_rule=update_rule,\n",
    "                  optim_config={\n",
    "                    'learning_rate': learning_rates[update_rule]\n",
    "                  },\n",
    "                  verbose=True)\n",
    "  solvers[update_rule] = solver\n",
    "  solver.train()\n",
    "  print()\n",
    "\n",
    "plt.subplot(3, 1, 1)\n",
    "plt.title('Training loss')\n",
    "plt.xlabel('Iteration')\n",
    "\n",
    "plt.subplot(3, 1, 2)\n",
    "plt.title('Training accuracy')\n",
    "plt.xlabel('Epoch')\n",
    "\n",
    "plt.subplot(3, 1, 3)\n",
    "plt.title('Validation accuracy')\n",
    "plt.xlabel('Epoch')\n",
    "\n",
    "for update_rule, solver in list(solvers.items()):\n",
    "  plt.subplot(3, 1, 1)\n",
    "  plt.plot(solver.loss_history, 'o', label=update_rule)\n",
    "  \n",
    "  plt.subplot(3, 1, 2)\n",
    "  plt.plot(solver.train_acc_history, '-o', label=update_rule)\n",
    "\n",
    "  plt.subplot(3, 1, 3)\n",
    "  plt.plot(solver.val_acc_history, '-o', label=update_rule)\n",
    "  \n",
    "for i in [1, 2, 3]:\n",
    "  plt.subplot(3, 1, i)\n",
    "  plt.legend(loc='upper center', ncol=4)\n",
    "plt.gcf().set_size_inches(15, 15)\n",
    "plt.show()"
   ]
  },
  {
   "cell_type": "markdown",
   "metadata": {
    "deletable": true,
    "editable": true
   },
   "source": [
    "# Train a good model!\n",
    "Train the best fully-connected model that you can on CIFAR-10, storing your best model in the `best_model` variable. We require you to get at least 50% accuracy on the validation set using a fully-connected net.\n",
    "\n",
    "If you are careful it should be possible to get accuracies above 55%, but we don't require it for this part and won't assign extra credit for doing so. Later in the assignment we will ask you to train the best convolutional network that you can on CIFAR-10, and we would prefer that you spend your effort working on convolutional nets rather than fully-connected nets.\n",
    "\n",
    "You might find it useful to complete the `BatchNormalization.ipynb` and `Dropout.ipynb` notebooks before completing this part, since those techniques can help you train powerful models."
   ]
  },
  {
   "cell_type": "code",
   "execution_count": null,
   "metadata": {
    "collapsed": false,
    "deletable": true,
    "editable": true,
    "scrolled": false
   },
   "outputs": [],
   "source": [
    "best_model = None\n",
    "################################################################################\n",
    "# TODO: Train the best FullyConnectedNet that you can on CIFAR-10. You might   #\n",
    "# batch normalization and dropout useful. Store your best model in the         #\n",
    "# best_model variable.                                                         #\n",
    "################################################################################\n",
    "pass\n",
    "################################################################################\n",
    "#                              END OF YOUR CODE                                #\n",
    "################################################################################"
   ]
  },
  {
   "cell_type": "markdown",
   "metadata": {
    "deletable": true,
    "editable": true
   },
   "source": [
    "# Test you model\n",
    "Run your best model on the validation and test sets. You should achieve above 50% accuracy on the validation set."
   ]
  },
  {
   "cell_type": "code",
   "execution_count": null,
   "metadata": {
    "collapsed": false,
    "deletable": true,
    "editable": true
   },
   "outputs": [],
   "source": [
    "y_test_pred = np.argmax(best_model.loss(data['X_test']), axis=1)\n",
    "y_val_pred = np.argmax(best_model.loss(data['X_val']), axis=1)\n",
    "print('Validation set accuracy: ', (y_val_pred == data['y_val']).mean())\n",
    "print('Test set accuracy: ', (y_test_pred == data['y_test']).mean())"
   ]
  }
 ],
 "metadata": {
  "kernelspec": {
   "display_name": "Python 3",
   "language": "python",
   "name": "python3"
  },
  "language_info": {
   "codemirror_mode": {
    "name": "ipython",
    "version": 3
   },
   "file_extension": ".py",
   "mimetype": "text/x-python",
   "name": "python",
   "nbconvert_exporter": "python",
   "pygments_lexer": "ipython3",
   "version": "3.6.3"
  }
 },
 "nbformat": 4,
 "nbformat_minor": 0
}
